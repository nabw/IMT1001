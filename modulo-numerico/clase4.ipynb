{
 "cells": [
  {
   "cell_type": "code",
   "execution_count": 30,
   "id": "e5ed0593-c982-4ad2-93cd-59d8d1125842",
   "metadata": {
    "editable": true,
    "slideshow": {
     "slide_type": "slide"
    },
    "tags": []
   },
   "outputs": [],
   "source": [
    "import numpy as np\n",
    "from numpy.linalg import solve\n",
    "import matplotlib.pyplot as plt\n",
    "plt.rcParams['figure.figsize'] = [3,3] # achicar figuras\n",
    "\n",
    "# N intervalos y puntos\n",
    "Nint = 20\n",
    "Nvec = Nint+1\n",
    "\n",
    "# Dominio space-time\n",
    "xs = np.linspace(0,1,Nvec)\n",
    "h = 1/Nint\n",
    "dt = 1e-2\n",
    "tf = 0.1 # t0 = 0\n",
    "\n",
    "# Operadores discretos\n",
    "A = np.zeros((Nvec, Nvec))\n",
    "I = np.eye(Nvec)\n",
    "u = np.zeros(Nvec)\n",
    "b = np.zeros(Nvec)"
   ]
  },
  {
   "cell_type": "code",
   "execution_count": 31,
   "id": "d2044484-a31d-4a32-bd64-d20f8ef5474e",
   "metadata": {
    "editable": true,
    "slideshow": {
     "slide_type": "slide"
    },
    "tags": []
   },
   "outputs": [],
   "source": [
    "for k in range(1, Nvec-1):\n",
    "    A[k, k-1] = -1 / h**2\n",
    "    A[k,k] = 2 / h**2\n",
    "    A[k, k+1] = -1 / h**2\n",
    "    b[k] = 0\n",
    "\n",
    "# Condiciones de borde\n",
    "A[0,0] = 1\n",
    "b[0] = 0\n",
    "A[Nvec-1, Nvec-1] = 1\n",
    "b[Nvec-1] = 0"
   ]
  },
  {
   "cell_type": "code",
   "execution_count": 32,
   "id": "f87e556b-4d82-46ea-baef-8bd62b987c45",
   "metadata": {
    "editable": true,
    "slideshow": {
     "slide_type": "slide"
    },
    "tags": []
   },
   "outputs": [
    {
     "data": {
      "image/png": "[encoded data removed]",
      "text/plain": [
       "<Figure size 300x300 with 1 Axes>"
      ]
     },
     "metadata": {},
     "output_type": "display_data"
    }
   ],
   "source": [
    "# Condición inicial\n",
    "u0 = (xs > 0.4) & (xs < 0.6)\n",
    "u[:] = u0\n",
    "\n",
    "_ = plt.plot(u0)\n",
    "\n",
    "def f(x): \n",
    "    return 1 # np.sin(x)\n",
    "\n",
    "def sol(x):\n",
    "    return 0.5 * x * (1-x)"
   ]
  },
  {
   "cell_type": "code",
   "execution_count": 33,
   "id": "e8715b83-0502-4ea6-a2b5-a231a683be7d",
   "metadata": {
    "editable": true,
    "slideshow": {
     "slide_type": "slide"
    },
    "tags": []
   },
   "outputs": [
    {
     "name": "stdout",
     "output_type": "stream",
     "text": [
      "Solving  t=0.0100\n",
      "Solving  t=0.0200\n",
      "Solving  t=0.0300\n",
      "Solving  t=0.0400\n",
      "Solving  t=0.0500\n",
      "Solving  t=0.0600\n",
      "Solving  t=0.0700\n",
      "Solving  t=0.0800\n",
      "Solving  t=0.0900\n",
      "Solving  t=0.1000\n"
     ]
    }
   ],
   "source": [
    "from numpy.linalg import solve\n",
    "t = dt\n",
    "us = [u.copy()] # u == u0 al empezar\n",
    "while t < tf:\n",
    "    print(f\"Solving  t={t:2.4f}\")\n",
    "    Alhs = I +dt*A # Exp: I, Imp: I + dt A\n",
    "    brhs = u # Exp: u - dt A u, Imp: u\n",
    "    u = solve(Alhs, brhs)\n",
    "    us.append(u.copy())\n",
    "    t += dt"
   ]
  },
  {
   "cell_type": "code",
   "execution_count": 34,
   "id": "f2dcb6c6-30db-463c-b5ba-e9c8849d24b8",
   "metadata": {
    "editable": true,
    "slideshow": {
     "slide_type": "slide"
    },
    "tags": []
   },
   "outputs": [
    {
     "data": {
      "image/png": "[encoded data removed]",
      "text/plain": [
       "<Figure size 300x300 with 1 Axes>"
      ]
     },
     "metadata": {},
     "output_type": "display_data"
    }
   ],
   "source": [
    "fig, ax = plt.subplots(figsize=(3,3))\n",
    "line, = ax.plot([], [], 'b', lw=2)\n",
    "ax.set_xlim(0,1)\n",
    "ax.set_ylim(0,1.1)\n",
    "\n",
    "def drawframe(n):\n",
    "    line.set_data(xs, us[n])\n",
    "    return line,"
   ]
  },
  {
   "cell_type": "code",
   "execution_count": 35,
   "id": "40574af4-9577-4c4d-9259-4f8092cc4e4b",
   "metadata": {
    "editable": true,
    "slideshow": {
     "slide_type": "slide"
    },
    "tags": []
   },
   "outputs": [
    {
     "data": {
      "text/html": [
       "<video width=\"300\" height=\"300\" controls autoplay loop>\n",
       "  <source type=\"video/mp4\" src=\"data:video/mp4;base64,AAAAIGZ0eXBNNFYgAAACAE00ViBpc29taXNvMmF2YzEAAAAIZnJlZQAAJCJtZGF0AAACrgYF//+q\n",
       "3EXpvebZSLeWLNgg2SPu73gyNjQgLSBjb3JlIDE2MyByMzA2MCA1ZGI2YWE2IC0gSC4yNjQvTVBF\n",
       "Ry00IEFWQyBjb2RlYyAtIENvcHlsZWZ0IDIwMDMtMjAyMSAtIGh0dHA6Ly93d3cudmlkZW9sYW4u\n",
       "b3JnL3gyNjQuaHRtbCAtIG9wdGlvbnM6IGNhYmFjPTEgcmVmPTMgZGVibG9jaz0xOjA6MCBhbmFs\n",
       "eXNlPTB4MzoweDExMyBtZT1oZXggc3VibWU9NyBwc3k9MSBwc3lfcmQ9MS4wMDowLjAwIG1peGVk\n",
       "X3JlZj0xIG1lX3JhbmdlPTE2IGNocm9tYV9tZT0xIHRyZWxsaXM9MSA4eDhkY3Q9MSBjcW09MCBk\n",
       "ZWFkem9uZT0yMSwxMSBmYXN0X3Bza2lwPTEgY2hyb21hX3FwX29mZnNldD0tMiB0aHJlYWRzPTYg\n",
       "bG9va2FoZWFkX3RocmVhZHM9MSBzbGljZWRfdGhyZWFkcz0wIG5yPTAgZGVjaW1hdGU9MSBpbnRl\n",
       "cmxhY2VkPTAgYmx1cmF5X2NvbXBhdD0wIGNvbnN0cmFpbmVkX2ludHJhPTAgYmZyYW1lcz0zIGJf\n",
       "cHlyYW1pZD0yIGJfYWRhcHQ9MSBiX2JpYXM9MCBkaXJlY3Q9MSB3ZWlnaHRiPTEgb3Blbl9nb3A9\n",
       "MCB3ZWlnaHRwPTIga2V5aW50PTI1MCBrZXlpbnRfbWluPTEwIHNjZW5lY3V0PTQwIGludHJhX3Jl\n",
       "ZnJlc2g9MCByY19sb29rYWhlYWQ9NDAgcmM9Y3JmIG1idHJlZT0xIGNyZj0yMy4wIHFjb21wPTAu\n",
       "NjAgcXBtaW49MCBxcG1heD02OSBxcHN0ZXA9NCBpcF9yYXRpbz0xLjQwIGFxPTE6MS4wMACAAAAM\n",
       "82WIhAA///73aJ8Cm1pDeoDklcUl20+B/6tncHyP6QMAk1amzrKlOWSPpAX3YFz5tCf/mAKsAMcQ\n",
       "XKs4KyAmdHi9h02EKvVfw2sH+oFL9X2+jUrL6xlzuU/0fLG25QrXrW0MLujmbbMx7Z/+RHQA/Q5g\n",
       "LWFdugPbP1XIzs8HQljtPur4vYa9qDlJws6mTfPLAwLBDdZD9Pksh8rc63lkhWHjLnAxnDCvHmC3\n",
       "NYLk53GoUJRuTs8daLJWAmq2zLHU4r+OG+IQwns/BGJc0r/1AHWJV1hBnpXK4COP4SbpZ+Y5Rhcw\n",
       "HVe9IhLEdwc6s/YGZaDIRdoG90cAaZNxY3N/zzagrHTvF5zJNjVoqDBcGdcdIKQfP2kzKKsKWQw8\n",
       "CC8NiOIUxVjd/4mveld9Bp9bStr7raOQGt2PHVtnUVDG7JqsGOJZFdjuPt1rWYh3Lh5/apyeIrY8\n",
       "iqnY7EuxLwuwGmp0f4bPIWlUwfnSzq3Q/LV0+/6sYRrdks30QgV5Z9eY0xA//5qdkLLtSWUQ+giD\n",
       "T5cfPUhXlPKv4cBjfv7DABW2l0NSZw7oDjqfdylNgUtb9ZU8bLRXijWPCL+yVlsbkbjIRezwG1aH\n",
       "s80m39KZmVJLqg0ucDdwWDLX//M1LcXYAKbvBWXRXstdvV/zNFIT3rq8h+mly0/EMBrgtlV36UdM\n",
       "RZSGY1IvNwBEuzYl//16RvT3HYsv24LwmSAeJeBZN0yiT4tvgJailwOnQ+oWG04RIeAyMMsQhVTe\n",
       "acowvQ6bs2pBVBOdqMzT61lOqWNafQJNfSxladMC5lzgoI7KH+qNMwYgxDrJEfnF56cBVV4+IOmn\n",
       "E3sOk23bQUz5OfnZwSW9J5T44pQBvr21XqmuUmOjnm5u7OL62rmZg8/ojW4BPEo6Kv1eBYgMzcW4\n",
       "TlwnckXhjSByE3HXJ/o9IB+hlhoVv7DXIT3ecnwNJYm2jANSalxFi7RppabCvOH0Tp7fDNGjF7NT\n",
       "N36hE4xHcuYh5kmFUN/QXvDhOg8KwR2BHc0lcgoRczWUSnyBG4lzTjyj+mRGA2n5cgm/WcZFy3hP\n",
       "NwAEoz4HuVvAQ27rZTpnEw0SXqsAeknlbWGCxhaQ5gaItYYflE5E25ves1GVe8jNhQy1Wtf0DUuK\n",
       "UAcSvZZiBO93R/dt9e4fU+v7XtP2FBFILI0BzcA/HrWwrrDxijaTzwL1rTuZwjB6huTcCz0bQSul\n",
       "fDi1At7QLTylawo/HEN7+8aDkupuhGV/Ir1Swt4IYNzPhhBDIygxaiFEUzRoR67+snmJfmEiXfho\n",
       "93QTXKlRxa4lb5x0sYhXvOyvoaRRpRde7pH5LNH7nDHfGolpECT+CHE+fpBG1f6iNqWsmqScUh+h\n",
       "tZKgSyGb2MNuo6luRB8ulBQNCJpJSE4d56B/8SDlVrCDifseXmkFh6HVaKtT1tkDMjh88KKDypMj\n",
       "0wayQSGFDhTX9t2WGpJgeFoPWB/tPL+Ke58iprVKQWjgW29FPDr1eGbMwXI8K8JnWvBqyGP7aeCW\n",
       "GWzBWwDrjHvQAXDJsaahdQR0hYkfCn/xpTmW/ue6aaNeVO8kiStM+tk1xx+YGoABAAZczYvRpjSt\n",
       "/6Z91uiMJMBT9YRat0FNnZOysMenCdXJh1JvnD+RtLv50ZWJW1wkBYE6mFcGhonboeR3UFUq2ofP\n",
       "zOje4nuIH+PV3B/WwOs7/c3zbPC4dcxPmxSnhX2t2cvDcAdvOGcEtEQLxSu3TgmawKdj1SD+68gy\n",
       "GGCuewu0FAH3qZGXBTpo84HOU5K6cGVCMYYoAbJKUEwucWJTKHCAHN48hlQf6QlHR+iXLju+WO6l\n",
       "QQ9NYOOPrM7TvKjV6Fzb3NHEcoVQOatUoDde5tbRm1QTPGpX44c31AoudlOadyaAQuw2STmz+6Er\n",
       "sgSBUOyN3gGuZ/Djmi1zy55ikU7jrWbWhAYUGgi12uuWf4vzfiz2F80JsVn0YlU5aF3UZDxlH2zx\n",
       "DJKJJPgexTq4HwgbZ3QaX4ud/9sO/nUxV6odkr/k2kJ4+2Ql6UqUpKsnYgTtda763eCvkCZSHxUM\n",
       "qoA1HgN7WKpjD89eLUH1lyvn9Opm5wvUkyLOauX+hvRge9DoWHnP/5k64my68QmR6evUvzd46SGz\n",
       "F4GnhKfLnQ6clKK+VBzl4gNsVkfeZzrk4se/g9gAG9btL4tcI8Rq527+6xUGSaQL+trYDDh8j7AE\n",
       "Blp1H2gZxdA9b2W8CxFWWjWH43ZcV1xpvF94eDiSm84gSPNuyzTDbxmWVjLU6yQOOEfjhwq6e8tg\n",
       "Ct20HGDcS3zbDkRZkL9y7nDtj3m+ZgnGiZBDNJkdxnPLWGXcZ+Qg5ZL5QXx6WQb2Tq/dOiEC9eTV\n",
       "ixbphM8he+6ysIe8CvY1Cj1apMBq42bL7CRrl+lS7Mu2DjM+A5J82ZyUsLdLiPyJ7ctYxE0GOGPb\n",
       "P9vhR/pLAp2ahX10oKN0jlYuRMRMaEZrBW2YcpSkzaCUKHp9PXWJYR+eC93IRdI9ARwuDoChGJc6\n",
       "Z5bO3tHVnyGrt37I4Ou24m89/UC00ZFnemle7LI63fhoaJFO1Us+KVEz/awMMmoE9YsXD5/GGNv3\n",
       "CHK4E5tLWyPsmyb+skBN6kohmm7T46aX1XjKDr467MeMNiJ+NX8P8w+/4vwPO08xIv914pJtf3kI\n",
       "GmPPqPHkwDZ/te+kfeJGY9RL4x0iojDPlYwSe6N6LurnpuSwCTSmcU8WDGF+3xY1atPwSOS1iaqp\n",
       "1rzWOiS/RFFN9FPxIZuRop/oNVRhrd9++55pODVMm8HOosyJ7xICoSfp/5191oxV/9sf/P6T4gtG\n",
       "1yhbjV5RPw4lnd0Gh6fV3SguLk7tIN1GqLcUzPStcwgaTUi5iyITpriOulRyeTtpH5QnlFHL8+nP\n",
       "vbM0yb/sXFhqOQVwozj0Ik5fqbFqenZT5dodi9vYHJYQ0DUNCtmRUGqptsNGsWI0yEJAPIoi9MZW\n",
       "f1Slfgu7Ty4li5pskXoIKh5HzdzMfbFQ4TBBEE8/iz/n7HTEgTaSrauqjWLrlJ2gDiO1Mk8KtRxX\n",
       "06rB8d5/zZ+V/8x78Mz8221FrE+nU8B/ymclo78cl2XxgJvPUSFas8I1k0m7yzpmOzieE0nFNXXk\n",
       "sIl/wdFjEyr6qqAyeh+smvZ9/cuFuYs7dZXjg/lQ+H7QjtK2AXw8lWuqObNP685xlkCkb3KXgW7K\n",
       "Bi9U+lWM2gevPmVnYHBzFnTUe+D14xOW9jDwjo7dAPJWlrt5svEvAU8IUkwX2b0wly+lIE5/puuu\n",
       "NfYr6T2DlTqghUZ6xtIkwfW8R2wATxNKI4A41G2RQh40MF+5lTWSnUDuLFXVg9UmI2+J3o1ckBpr\n",
       "IHnoN8SqaikIHG44GjBUkdcFcZ6NkaRdFFdLdGcaXTTIXrDvszCahgFq9soSNOPTIyZIL3035BGW\n",
       "f+cwgzVxEPyGoDoh+F5NqO6YvQwvvgQCKHgYOQKzTCDgv+6CCtk8VndsucQxe/nzsSV+SKhMD6eu\n",
       "SK+bQfQWhSLGOMsmHIDx7VI/wx+MCCmYammVX0IgfC8gh4QzFARQ5AIfu/nd8zyNDh0VATZ2Eb0i\n",
       "d94+V+xDALxyUvlsE/A7LJ5bGhlGXep7QVewNjRaTpkQ88gfbtLhRSHdmLaBdPX5JFCxFY1IN2gX\n",
       "7xF3KXJoJ/xaOwEivMaSdCOazjngZHvbOpCglha0aj6bRI63MunpTCI9BY1IfPzSOSZy1ZviE8xA\n",
       "gMbFxfXfsSP2iJXVyIOR4Hl/GR3lVx0HmBSDZWp3A6cAvTaBTf+PaJJ1Hr1HNa1F6+XXa6CZen+r\n",
       "EpXWOpXDLtXCaN6x+DaOl5+SYfvQ55qq50Fa1wqO9dtb6rxlB18dJi3zbczF+9ihGac1EB3mNNqZ\n",
       "DT8RzRyM6GummE5wwLKwGv84N6SKls4LYaK0XieRODo3nL07D8ngTFL5LR6atmVed87l9a4085vz\n",
       "avapkZgjbxopmqBF4ZCojq0AR54OXVtarZcokcaODyTn5/3s8rXH4lslRUF0fqc2TP5xDxufo4Uq\n",
       "Yj+kdpaJYo//m/yRSX48LSPE2BCNUyvP5Wypm2+RfmHuk/BAuHJIk/m7GNPi7whvPrxYEVkDeR5n\n",
       "9vEroyAvIiqMV4U/YMsMAfXft09w9JhZdH/9VlRR57MqZNgM+iyelcRxbHpsjWqcOJsKK/OQ7d6d\n",
       "WDmw7LVCVdZuCuT7uPOdl/4H/Jdgr3+/Ligm/ViBgkc2tTN+w1vec2bnArkxqK2t0wKeWk41QyK/\n",
       "afT61npTM5u6FZq231IkHgt+/Q6op43+Uvy2IjNyvapEWpt9JkFShLabd/nKtVHvQHwAjpsf7S4C\n",
       "GVS0dNl+v306H7ccT+cfHMqKL1Z/+M014T19KI3SidQ1HddvKBnS/d7Fw+EYIdk2icC42QiL2sAj\n",
       "MgSk+2tAMRl8/wAABm1BmiFsQQ/+qlUAQXb6gAESm2Net2+VZ3mwKIvTE89k2MbCCYEEbAT95xYs\n",
       "unSsNupLIF54gnTCcdzjhIn74gWroGL6P+offq35AP3VfdfeijNswtwceTo/p0KVqQFrJIxwr0BK\n",
       "la01IMkOc9Xg5L1pJd39tzRJPQhJl7mMCe8jqjaGMAv32zFObtoImAk+UAv2Prz3d/G0yZIPLZ+3\n",
       "3hqw0empv+ZxU4f7EB8U9oNP+nTNs8hVosDfnlRYAmOvOUuNWptTvYspKLg//fqD4PG32qKJoBAl\n",
       "Ii7Gs+moZiAc4o/SQDmA1jMur6gTijbE41pDoVTpB8N8oFI4kWVqV1BiqGImpEYu+1Mc44LFRcFR\n",
       "7rldKzgjM7Zf0zQzAeKGCH9oKMMaoBUWKV5/jcIPOCvBjXGcTPIJZVjqCv7uC4iL3eTul3ipI3V4\n",
       "3vr8qd14Y80v1WzTtY293bN9MUxXiBLPgu92pXbBdYoaUeegCTdVEkIy9Shl7ozKeK5EwlGcn0W4\n",
       "y+50MiHzxD/i26+KCGNoQuA5ZFtc6VYQTto86mhpNy6uJf4t2QrTS9IuV97yUykXHI7TrBVaZFMn\n",
       "2qKVwbFONIk3paVdo7CRJ88vg/xKij+a+sOj1cYrDqvq/5njU3N904aPLBMpbYk01jXckA8ZqINm\n",
       "EBwp3ygfBbcQfuS5Yjox24mFszyWYN9MfFPurerbyuAlDe2eVtLuOzDQ61h2TfPq+uGs/OzBk8iX\n",
       "gCwR42qHbotVybJlRYtA7CXGI46hXrYYN8nNZJupLOWmIn36AJ/pFPXVxmPmr+wSWVj2tKDcAJDk\n",
       "sN88I74kMDSBAzPIRaT54CgQwNsqVpD7ZvsiRydGY327age3Kgy75D4rVfcU6kxJ3CteKHX0B9qy\n",
       "t1kx2f6z9OG3YWrg2b11WY+PuWN3bwMfV+Ngt5SNj0aj64+EAKme/GXrpEJ+uonQxkD8S82EOj5d\n",
       "e2eMRP4PBuKanLHz/3B+gVwkdnqjS2dNPKeyZj7ZxQbbQNOf1jF2mJ5B+dy9AuLPewZo8116rG8i\n",
       "5P7Zk78Nt5iZyOeksolmWkCxMCo2jLIIyJ2vTxXrwxUNPce7j6v7Bbv5g4Get5YCU84dVWwWehjS\n",
       "yoQGXr6H4RXD+bSj6wranr/2/869saF8Bl3HYwdheH9FS6dKLupYIhydJqXcNL3e+o/qLLtdmErW\n",
       "YxJ1+KUFsTdIGdlwTRNFWd0zAAypgeSIzr3Pizx/h+nesmow9hyDZHax4qxyE/Gp6GQ+2x9+zhww\n",
       "6fopqknnMa39StNsyQvS5YntkPfaM1NmXPBcnXCNaGrB9xKlR5KweKjWcM68ow6ByBNddJ7ZAG/R\n",
       "sww7sYpvzRFEjruXzJaeQKl4Sg1+bqxj8hn/frb6Q/ojdHKJfrS19tPRaHopSgexWSYqrywkVCfM\n",
       "2EotL9oDqiAbuf8um0ZGI21Zov9dbPim7mMMFlu3vPz0gZ6Jg/WPQTMNWuThRiERV6QuS149qV1d\n",
       "DiQXV7Xla8rVz8aGGB/biBasEgTZ7PDymdKXtyS53BSl8gexM/YbPA4H60pEJ96PKzaAD2VCRhSY\n",
       "guZQnriKh2slNwOxnxM2xJV88xhd8pnLq7zTsIOrNM1MHuJZGlBC6mbOU2XAoybdM2BQ4TFEJ/dN\n",
       "HrTSiSPrCITMUlmp3uFRvznUirwsAIRK/+OCE1WDfrZVRwr4PeNIwIpybN7TGRoAr/qgz0S1t2LK\n",
       "eF7RitJfwzNtMIqMaR2apIuY0ZH+RiWnENxeppA6cMu0BaxtNdv7LoblsmIO+hsASKoSAy83US+2\n",
       "pnwPX+f2DjAivWVKmEnMQNLRbg+XuJtCARWlGtkN5Hr6sF1YW3I8uY4+Iv36t4gVcIUX6HgGsDdx\n",
       "RQFdX1tTog3Jr44FwmBO2aMFeyp31QHQcOaXyNNOUx6L5e1xtHDoo1siUppqglsdacwdyGhjCgon\n",
       "NH5AyAKPTu50BuEsmd0Iyh2pRi5MHPAoE3rg22ahC7xFbrrMuvlDEm3Cwtp0Tol3uGBG/XSoWzi1\n",
       "6YcP1vjFUEyB67+cjGhFMqRbMZWQIGMCvgT7B34ZfQYOnjCMYGIc2HE/zLE+W1T4tgH8A+RjPaP9\n",
       "0fMhJawjV7siN81wSST9hzS4CXWh3my6SKb9RVXQRtQRhqyzKQxxWEpIR651S++zrSftFBgW95+9\n",
       "3AWIuJGAAAADW0GaQjwhkymEEP/+qlUAAoXxevVdjmNNMhSZ3aF/D67AkAIg+fAsaUrUDxvcdKNO\n",
       "/so7l7gEfaUmJ8hw22xf85g5ctauDQsVPRiXRwKSfJyYiux0GX4donr9aSRj/CdwB7T+njzzu7Pv\n",
       "f/Vcc40ImjtYKiBxu0RynocgKDwrZvtwqau5/dboWNPT6jCY+tk2uiIgv6Qa0iHQW/DYUyPZI0dn\n",
       "OvNAhPf230H2/VyS6BCCz4U3Uuqre7iXX0UOJ67vjXdNdEW1dHNDppc3TEImxAkzJnexPqb7vu4z\n",
       "au8/pNeTsS5DZl/XSm/h2r9CR+vAcRZeYnDAHu5UBiMCrIDyQGjfcx6ippaC588OtKLXTY7Uknjt\n",
       "G8bjRmjyGQSPN81DSEmj2FF1dpcRIQC9HxCRCMC7xO7iAtKnqgaULADDyFrhB4UHgluAKbAoIS8U\n",
       "YqLnm4v3huew7pvuBvI8pzviRxhyQqujhIObbIXPlM2o7l6MsIZwMzozTj7fz39oh7irdwNiLBXj\n",
       "rVeCZWpq39RM/Dz6VYn9VxRbcYgT5HyWmzGdE8cNQBGzF3in8uzkBgSYPjwdHuCGjUnEQ6WqhxD2\n",
       "uQt87c+R51badwpkmJJcU3MRTh5M3ji8SCdSGzIs7Wiim63X6ZHHGo+jFRMrWDKu9D7VuP10+Mfx\n",
       "nOavBk90o/OCvyeZudfCwrnWgDG2VMf79LTZxmBjivFbbE0d/XkP/lsRhAHebW1sszZWdUntgZ2H\n",
       "I8Va67JCqJGoQJKy6/9V2CCvUYevi/BPOyQEDTKr8C6BrEgfHw9s1ZiuUqfNpYB4HECmJBrYp4a8\n",
       "j8CfaUpYpdmY4ux6lGmEIME3FqAGGh6Lgp3aFvDnHY9Ximjjg+HvFf/SDXatnbTx3uKGoSxQ/oru\n",
       "8EqWzaucAp+5nUOeZDneVNnbsXaA/+G+Qz7f4SNhoZpJ6/IDV5QcVE7aGRd6SRhGXfVwIkOFzUVL\n",
       "IlOLnW7izxSxF8/zDXnY3SL4YVv1bNF6mJFkWOeTKpj97PvmwHpVOtRbaRpHH1AXIzRhTALCZBah\n",
       "dhapuEjZ6qCLrD/8je4dTYoQhFE487Bg/RO/SGlfvM0bQhqwm+Z49Zo/i1ZMupxMPUkcHqWkfCtM\n",
       "ViC2AlVkST0z4z9IIIEAAAOGQZpkSeEPJlMFPBD//qpVAADqe9Ssl7/yZ1/18Zri5Tf/fZ4T7JaK\n",
       "AIRMn8/3w5ruYdBWfs8G+o12KuRwLJ/xF6m95kQJBiaR0OYwcnHXnbts6j5wCirx59kJ0TYkCk/g\n",
       "P24TNzvSz4k2u0KBY48yZVxpp0mYOOge/I6/DTnEsBwXWayPoctT4KjtGyURad7QQnWctZez/YWW\n",
       "QXcidl9kZ/iycRmk++YirLxuKOLcltVmv5s/t/gqVUYQA8GxX+/gj83IdyuVodCjHlcptnElRz/n\n",
       "iZRj5Q2nAutKehFg10/+mQMznunXCR1BQP7xWKyri3rccQ2XiNY+Z6ZhHCzsqga+2lDa2gIYBmhn\n",
       "JJSbFprkOHknGsiZBnY4jUhX0idDlDN3E8gWp7mQDqCsUw6KBGmkIYxy/1G8QwRpXMB+D/+21Ezx\n",
       "ETo12upmadizMCYHfXDavBigsZOvSKXZhB2vpcIDmvlRsoHHthCIb9X+F0oyXrt6vrFjmXvPQfTZ\n",
       "3jbA+2W8xFHtCg8dtWGFzNNmpwcwMowvLdlEcCEtUABhTa1BcTP+6vvmQwGrthflrMO7GuO70LAo\n",
       "mdLIjAC1H2n9qJ+z6QWC4zpGIt3TndYDaPYDNzK1QnlKcpVSbrQ2efYeHPFGLYhcM5M6mUqsexPX\n",
       "MBFA8HiodRokDYe9dMNEHEWM9bq3SDQGMDIxAlcWRGz5om0yL+hyXr6LIyAUwy7G0NaR3hEJl5U7\n",
       "IZxVOocNmDkLBRW/SkPqmf0DVP29mp9XQSOxDqyUyWPze9Tx1tWLJ4w/ImD+vZBXkDtzRGbhDUex\n",
       "39ivEmZ45P5i9q4NDxALd4hgsBDwrQLDwuOnbMoiqEr1heOVCbcwAZzN8QuFLBpbtjU8O8LfDOQf\n",
       "msd3TjtrHLQGEYIH34P26pOqZt6BR4TWw3xGyno7oxO1gH6XJJJDWFnAuFkOeBfdw5Yi7vA/tbIn\n",
       "ULGigNFfqFrkLvWlgJr2b1F9bIkAd59/401MylzipiNcKPb6mHphRxXtL0GVSSaVb+JTA3Krly/x\n",
       "sdnTN5syih/rI7UTqIIUN/ytMNAl+DkC8OUGUJHdfnfNGsh36T+qFjOKc0OpxzluHXfwTNVgRMBs\n",
       "VquheaUv3k6r2o8i0qP+EjESsf3Ui/6+s2rTxGRbyCpcn0pY1thUM/ZlXZz/9RimvgbfTeudwxcP\n",
       "XXXiy+krH4AAAAF3AZ6DakN/AAKOnSKEw7nXBIq0x3N/i1sq4gW7jF6ILyS6+3uYvXWSgJ6FM1EO\n",
       "w0etiXENCOpcSi2kmnqg/9KBvKqASZsMl/K6pDNTIT3eexn6lanb5vS19tIoQEqvqEGE3XbwY4X3\n",
       "zhrJael+PUcXlNJzbQSWisNdNOC/OyAZqRnKbmMIBusqhmeBKzEXACJkqkXxnwKvjYNWotOFppXB\n",
       "7LvClZyc7gOpWn5MMPbQ3pc18J/jqmmvgzCd7EWSQ1jq/yro2VeRBNk/MCmKl2k+YHkDFnC4Q/vM\n",
       "dYNpFPWYvC19bvtir3ThV2GslK1qrCS/oPJH4XaUBWx1ODes3ClWucG4TK3KLRL0EuzOy6KAe9ZW\n",
       "ta66RiRiLrtlpIoe2cJQ6czWLpxRYgtc/ie0JLbcbx0MZky8DdznsUrHAOW5QFQoNLTVFa34P9Eu\n",
       "LU7590gaT5wA3lLyB5x+GH25oecijW17OVyorDY1CzTYsnFKxpU7jgB3wYrhAAACMkGah0nhDyZT\n",
       "Ah///qmWAAFv+GR/gI3mzs+0D8Kg8Sh5/vECNqHr2kEzWE9w1wKoM8noknVeFUpZxL742TYIhtIA\n",
       "cWRyNBQBtL4ZEgHbTmMzp3UyUDAw97R1tfWt7wd49DujFYeIQ2VIefBlQ562wEkSS+fq2CNb6pkf\n",
       "8zqUw+K8IbwJ4DFOG+f0XmPv+1iOePuiJVgIXpV8SXXerF5gYG/UouIf3y2SJ+WU5jCDTBesVkYF\n",
       "6Mg2fTSkvidrJb+9+HZHPdxFMppPxRuwN//tM4wZ1MYW6GNkmTJvvYEBN/HINGdNBhc/nKc5RNfJ\n",
       "dXV84lA7O58GdHQynOBJeit6tRXHhICK9ee3zjYchIvwrAcnHA4XGkqOs684AMXlr+hB3MyMb6Kr\n",
       "OW8q3rWPlBwWVGjMzUZ74F5xGxB7TkBNhFe57qMrcnAxWud6lHaxyp/mdcSnHOjHStHg+xq9sDhE\n",
       "Tv/0AR/WQTMzhlgHpEP6Zt5Dy9xU768o5rA1g7phCPJk3OHog8HzxGYswlgJ6ZE+HT8R/fw77uQn\n",
       "4Ij0DnmJJFDBZwsJsxCcpMq4RMeKciWl+4qSVC4jn9bzXwFD9Ex338S5MaNmDH6QflWnRYfRzFDj\n",
       "NYWsWHhUn84gWUDSq+7bU0iigxch2P2s1UJ4acMfRL7vJ/1zp8+6zdeYcQPevdbk3sr1aWLjazBj\n",
       "81UZ/qMSKb86F0BGZ5Dft6ruCGJJb+2M4GQg+Bie7c6SwDuEh+6o9J0AAAD/QZ6lRRE8N/8AAP32\n",
       "sqw7F1UfTjxrhG2gQUDs/6/lklhLWZeWh+IFEkcFVhUWTUMWsMxykB65lUpdIxohPA4zldidn4wU\n",
       "cIvu/2FxnIWfgXmOWEsGZuotsPTARB6Lf5KkI8iJx75GhLF7Tcnnv181DrRAMnI6Ydm/dI9LXA5o\n",
       "V82K/029yW+ZJC4OHCC4EmVD6ogIQgCZNMPeIvvPQJLGjggKilaXEX9h+kBzJn4xUKXGhtEvayBD\n",
       "vFr//McOA5dnCpPW9sMtuEa2Rc5kNYwi0tjVlnIqWbkrRx2I+wwx+G6r6zX25m+VCMn0zbrqLlOm\n",
       "iokdtZJ2DTtaUSroK3jHAAAAewGexmpDfwAA+HaxDAaD17y0D9dKtmAEKNNAnx6K9n55Gip59bmP\n",
       "6tsGRdcVEDO8H+1ZrrLr6AHZ3PFveXnZtp/jcoPVyJlaro033XO8ALF0KkFYpCiQ0col32+K3gn9\n",
       "qqJvmYMvkoUNCUX+6DHY719pvw/WWDhrjel16QAAAQZBmshJqEFomUwId//+qZYAAOT/RS/Th2YF\n",
       "xi8YwydBghzjluuWADmNpP8aPfPY43MwBM/Tm0yrttw4krdjSvCubVLhykcByzijM+0mqIfD4Kk9\n",
       "AF0qzLd43GoYizoyNgWn9ilYOvZAsG9mRlqPE17uujGagfv1gwDOUEA93bz/wdKXvzhXJKLAggGT\n",
       "jOBRmyJIIgqT6KV8lDSUapr9bGh5nhi3KSqpW1X+kgJSvxhekDlfb9vLSxnntdPq5G3GANpl3ucc\n",
       "7M4mx80XKezxmPi0u0e8lynk+YLs+4WKQuUgxtsmaEzb8oyv1NlUsKmuWHi7mwcyJk/AqADsC77q\n",
       "braCwskzTTDXAAAA1kGa6UnhClJlMCG//qeEAAHG9k6gFOfQi3Ximxe/4ZJoOzgA6obPaZVgIa0D\n",
       "OfT37PcXqLX0tjhPNejTtrkEtpA1WJwsGQ73zhDvCCox8h3kQRznlntXzKDGtvh9xqBT28tx3W9T\n",
       "IpMcrsrUgWepewGhQEyQq/DVcXTe8jxqITvhtWgyhlmx3B2zI90Im6RCW+2W3Wd7bVCzV80K1VLB\n",
       "JqOPpJK6QtLKmpr0v9qIcBjxarEKUm0HTQAtq4+49x+LD9X/ElTyM96EH4eKx+UtcIVqnEBA52AA\n",
       "AAOLbW9vdgAAAGxtdmhkAAAAAAAAAAAAAAAAAAAD6AAAA+gAAQAAAQAAAAAAAAAAAAAAAAEAAAAA\n",
       "AAAAAAAAAAAAAAABAAAAAAAAAAAAAAAAAABAAAAAAAAAAAAAAAAAAAAAAAAAAAAAAAAAAAAAAAAA\n",
       "AgAAArV0cmFrAAAAXHRraGQAAAADAAAAAAAAAAAAAAABAAAAAAAAA+gAAAAAAAAAAAAAAAAAAAAA\n",
       "AAEAAAAAAAAAAAAAAAAAAAABAAAAAAAAAAAAAAAAAABAAAAAASwAAAEsAAAAAAAkZWR0cwAAABxl\n",
       "bHN0AAAAAAAAAAEAAAPoAAAIAAABAAAAAAItbWRpYQAAACBtZGhkAAAAAAAAAAAAAAAAAAAoAAAA\n",
       "KABVxAAAAAAALWhkbHIAAAAAAAAAAHZpZGUAAAAAAAAAAAAAAABWaWRlb0hhbmRsZXIAAAAB2G1p\n",
       "bmYAAAAUdm1oZAAAAAEAAAAAAAAAAAAAACRkaW5mAAAAHGRyZWYAAAAAAAAAAQAAAAx1cmwgAAAA\n",
       "AQAAAZhzdGJsAAAAuHN0c2QAAAAAAAAAAQAAAKhhdmMxAAAAAAAAAAEAAAAAAAAAAAAAAAAAAAAA\n",
       "ASwBLABIAAAASAAAAAAAAAABAAAAAAAAAAAAAAAAAAAAAAAAAAAAAAAAAAAAAAAAAAAAGP//AAAA\n",
       "NmF2Y0MBZAAM/+EAGWdkAAys2UEwn7uEAAADAAQAAAMAUDxQplgBAAZo6+PLIsD9+PgAAAAAHHV1\n",
       "aWRraEDyXyRPxbo5pRvPAyPzAAAAAAAAABhzdHRzAAAAAAAAAAEAAAAKAAAEAAAAABRzdHNzAAAA\n",
       "AAAAAAEAAAABAAAAQGN0dHMAAAAAAAAABgAAAAMAAAgAAAAAAQAADAAAAAABAAAEAAAAAAEAABAA\n",
       "AAAAAgAABAAAAAACAAAIAAAAABxzdHNjAAAAAAAAAAEAAAABAAAACgAAAAEAAAA8c3RzegAAAAAA\n",
       "AAAAAAAACgAAD6kAAAZxAAADXwAAA4oAAAF7AAACNgAAAQMAAAB/AAABCgAAANoAAAAUc3RjbwAA\n",
       "AAAAAAABAAAAMAAAAGJ1ZHRhAAAAWm1ldGEAAAAAAAAAIWhkbHIAAAAAAAAAAG1kaXJhcHBsAAAA\n",
       "AAAAAAAAAAAALWlsc3QAAAAlqXRvbwAAAB1kYXRhAAAAAQAAAABMYXZmNTguNzYuMTAw\n",
       "\">\n",
       "  Your browser does not support the video tag.\n",
       "</video>"
      ],
      "text/plain": [
       "<IPython.core.display.HTML object>"
      ]
     },
     "execution_count": 35,
     "metadata": {},
     "output_type": "execute_result"
    }
   ],
   "source": [
    "from IPython.display import HTML # pip install ffmpeg\n",
    "from matplotlib import animation\n",
    "\n",
    "# blit=True re-draws only the parts that have changed.\n",
    "anim = animation.FuncAnimation(fig, drawframe, frames=10, interval=100, blit=True)\n",
    "HTML(anim.to_html5_video())"
   ]
  },
  {
   "cell_type": "code",
   "execution_count": 36,
   "id": "6b130ef9-7156-4ecc-b80d-ac52bde6efa7",
   "metadata": {},
   "outputs": [],
   "source": [
    "UU = np.array(us)"
   ]
  },
  {
   "cell_type": "code",
   "execution_count": 37,
   "id": "1122302d-ac39-4440-86fb-c2ee088e7983",
   "metadata": {},
   "outputs": [
    {
     "data": {
      "image/png": "[encoded data removed]",
      "text/plain": [
       "<Figure size 300x300 with 1 Axes>"
      ]
     },
     "metadata": {},
     "output_type": "display_data"
    }
   ],
   "source": [
    "plt.contourf(UU)\n",
    "plt.show()"
   ]
  },
  {
   "cell_type": "code",
   "execution_count": 38,
   "id": "f05bb477-4521-4294-97c8-2555b70888c3",
   "metadata": {},
   "outputs": [
    {
     "data": {
      "text/plain": [
       "array([0. , 0.1, 0.2, 0.3, 0.4, 0.5, 0.6, 0.7, 0.8, 0.9])"
      ]
     },
     "execution_count": 38,
     "metadata": {},
     "output_type": "execute_result"
    }
   ],
   "source": [
    "np.arange(0,1,0.1)"
   ]
  },
  {
   "cell_type": "code",
   "execution_count": 54,
   "id": "7a7ce313-1d38-4a71-b847-8e168654e2e2",
   "metadata": {},
   "outputs": [
    {
     "name": "stdout",
     "output_type": "stream",
     "text": [
      "2 2\n"
     ]
    },
    {
     "data": {
      "image/png": "[encoded data removed]",
      "text/plain": [
       "<Figure size 300x300 with 1 Axes>"
      ]
     },
     "metadata": {},
     "output_type": "display_data"
    }
   ],
   "source": [
    "y0 = 1\n",
    "ys = []\n",
    "dt = 0.5\n",
    "tf = 1\n",
    "y = y0\n",
    "ys.append(y)\n",
    "times = np.arange(dt, tf, dt)\n",
    "for t in times:\n",
    "    y = y + dt  * y # Exp\n",
    "    # y = 1 / (1-dt) * y # Imp\n",
    "    ys.append(y)\n",
    "\n",
    "times = np.arange(0,tf, dt)\n",
    "print(len(times), len(ys))\n",
    "plt.plot(times, ys, label=\"aprox\")\n",
    "plt.plot(times, np.exp(times), label=\"exact\")\n",
    "plt.legend()\n",
    "plt.show()"
   ]
  },
  {
   "cell_type": "code",
   "execution_count": 59,
   "id": "ebfa7a07-1137-43ef-8f89-9986f52497d2",
   "metadata": {},
   "outputs": [
    {
     "data": {
      "image/png": "[encoded data removed]",
      "text/plain": [
       "<Figure size 300x300 with 1 Axes>"
      ]
     },
     "metadata": {},
     "output_type": "display_data"
    }
   ],
   "source": [
    "import numpy as np\n",
    "\n",
    "def pend(y, t, b, c):\n",
    "    theta, omega = y\n",
    "    dydt = [omega, -b*omega - c*np.sin(theta)]\n",
    "    return dydt\n",
    "\n",
    "b = 0.25\n",
    "c = 5.0\n",
    "y0 = [np.pi - 0.1, 0.0]\n",
    "def solve(N):\n",
    "    t = np.linspace(0, 10, 101)\n",
    "    from scipy.integrate import odeint\n",
    "    sol = odeint(pend, y0, t, args=(b, c))\n",
    "    import matplotlib.pyplot as plt\n",
    "    return t, sol[:,0]\n",
    "\n",
    "t100, sol100 = solve(5)\n",
    "plt.plot(t100, sol100, 'b', label='theta 100')\n",
    "plt.legend(loc='best')\n",
    "plt.xlabel('t')\n",
    "plt.grid()\n",
    "plt.show()"
   ]
  },
  {
   "cell_type": "code",
   "execution_count": null,
   "id": "9ce215b9-38b5-4bde-a8f3-46ebbfb19a81",
   "metadata": {},
   "outputs": [],
   "source": []
  }
 ],
 "metadata": {
  "kernelspec": {
   "display_name": "Python 3 (ipykernel)",
   "language": "python",
   "name": "python3"
  },
  "language_info": {
   "codemirror_mode": {
    "name": "ipython",
    "version": 3
   },
   "file_extension": ".py",
   "mimetype": "text/x-python",
   "name": "python",
   "nbconvert_exporter": "python",
   "pygments_lexer": "ipython3",
   "version": "3.10.12"
  }
 },
 "nbformat": 4,
 "nbformat_minor": 5
}
