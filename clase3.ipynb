{
 "cells": [
  {
   "cell_type": "code",
   "execution_count": 31,
   "id": "364c42b1-b1b5-4984-9d36-0695e33e958b",
   "metadata": {
    "editable": true,
    "slideshow": {
     "slide_type": "slide"
    },
    "tags": []
   },
   "outputs": [],
   "source": [
    "import numpy as np\n",
    "from numpy.linalg import norm, eigvalsh, eigvals, solve, inv\n",
    "\n",
    "# Construir matriz y lado derecho\n",
    "def generarSistema(N):\n",
    "    A = np.zeros((N, N))\n",
    "    for i in range(1,N-1):\n",
    "        A[i, i-1] = -1\n",
    "        A[i,i] = 2\n",
    "        A[i,i+1] = -1\n",
    "    \n",
    "    A[0,0] = A[N-1, N-1] = 2\n",
    "    A[0,1] = A[N-1, N-2] = -1\n",
    "    \n",
    "    b = np.zeros(N)\n",
    "    b[:] = 1 # np.ones ...?\n",
    "    return A, b\n",
    "\n",
    "A, b = generarSistema(20)"
   ]
  },
  {
   "cell_type": "code",
   "execution_count": 32,
   "id": "1df21655-d20b-4911-88eb-0261ddcd7f77",
   "metadata": {
    "editable": true,
    "slideshow": {
     "slide_type": "slide"
    },
    "tags": []
   },
   "outputs": [],
   "source": [
    "def solveRichardson(A, b, omega, tol, maxit, verbose=False):\n",
    "    x = b.copy()\n",
    "    it = 0\n",
    "    residual = b - A@x\n",
    "    error = norm(residual)\n",
    "    if verbose: print(f\"It {it:3}, err={error:1.2e}\")\n",
    "    while True:\n",
    "        x = x + omega * residual\n",
    "        residual = b - A@x\n",
    "        error = norm(residual)\n",
    "        if verbose: print(f\"It {it:3}, err={error:1.2e}\")\n",
    "        if error < tol or it > maxit or error > 1e14:\n",
    "            if error < tol:\n",
    "                print(f\"\\tConverged in {it} iterations, error={error:1.2e}\")\n",
    "            else:\n",
    "                print(\"\\tDiverged\")\n",
    "            return x, it\n",
    "        else:\n",
    "            it += 1"
   ]
  },
  {
   "cell_type": "code",
   "execution_count": 33,
   "id": "8dc0089e-70ad-48e9-8f85-9dea75005486",
   "metadata": {
    "editable": true,
    "slideshow": {
     "slide_type": "slide"
    },
    "tags": []
   },
   "outputs": [],
   "source": [
    "def solveJacobi(A, b, omega, tol, maxit, verbose=False):\n",
    "    x = b.copy()\n",
    "    it = 0\n",
    "    D = np.diagflat(np.diagonal(A))\n",
    "    residual = b - A@x\n",
    "    error = norm(residual)\n",
    "    if verbose: print(f\"It {it:3}, err={error:1.2e}\")\n",
    "    while True:\n",
    "        dx = solve(D, residual)\n",
    "        x = x + omega * dx\n",
    "        residual = b - A@x\n",
    "        error = norm(residual)\n",
    "        if verbose: print(f\"It {it:3}, err={error:1.2e}\")\n",
    "        if error < tol or it > maxit or error > 1e14:\n",
    "            if error < tol:\n",
    "                print(f\"\\tConverged in {it} iterations, error={error:1.2e}\")\n",
    "            else:\n",
    "                print(\"\\tDiverged\")\n",
    "            return x, it\n",
    "        else:\n",
    "            it += 1"
   ]
  },
  {
   "cell_type": "code",
   "execution_count": 34,
   "id": "4eaa0be1-043e-4c25-81c6-c65142e3f79c",
   "metadata": {
    "editable": true,
    "slideshow": {
     "slide_type": "slide"
    },
    "tags": []
   },
   "outputs": [],
   "source": [
    "def solveGaussSeidel(A, b, omega, tol, maxit, verbose=False):\n",
    "    x = b.copy()\n",
    "    it = 0\n",
    "    L = np.tril(A)\n",
    "    residual = b - A@x\n",
    "    error = norm(residual)\n",
    "    if verbose: print(f\"It {it:3}, err={error:1.2e}\")\n",
    "    while True:\n",
    "        dx = solve(L, residual)\n",
    "        x = x + omega * dx\n",
    "        residual = b - A@x\n",
    "        error = norm(residual)\n",
    "        if verbose: print(f\"It {it:3}, err={error:1.2e}\")\n",
    "        if error < tol or it > maxit or error > 1e14:\n",
    "            if error < tol:\n",
    "                print(f\"\\tConverged in {it} iterations, error={error:1.2e}\")\n",
    "            else:\n",
    "                print(\"\\tDiverged\")\n",
    "            return x, it\n",
    "        else:\n",
    "            it += 1"
   ]
  },
  {
   "cell_type": "code",
   "execution_count": 35,
   "id": "7d59a822-52e6-4294-ae0e-189a6f2c8f76",
   "metadata": {
    "editable": true,
    "slideshow": {
     "slide_type": "slide"
    },
    "tags": []
   },
   "outputs": [
    {
     "name": "stdout",
     "output_type": "stream",
     "text": [
      "\tDiverged\n",
      "\tConverged in 1354 iterations, error=9.89e-07\n"
     ]
    }
   ],
   "source": [
    "tol = 1e-6\n",
    "maxit = 10000\n",
    "\n",
    "# Richardson tests\n",
    "eigs = eigvalsh(A)\n",
    "omega = 1\n",
    "xsol, _ = solveRichardson(A, b, omega, tol, maxit)\n",
    "omega = 2/(max(eigs) + min(eigs))\n",
    "xsol, _ = solveRichardson(A, b, omega, tol, maxit)"
   ]
  },
  {
   "cell_type": "code",
   "execution_count": 36,
   "id": "84970893-d601-463f-9218-bad92a767c4b",
   "metadata": {
    "editable": true,
    "slideshow": {
     "slide_type": "slide"
    },
    "tags": []
   },
   "outputs": [
    {
     "name": "stdout",
     "output_type": "stream",
     "text": [
      "\tConverged in 1354 iterations, error=9.89e-07\n",
      "\tConverged in 1354 iterations, error=9.89e-07\n"
     ]
    }
   ],
   "source": [
    "# Jacobi tests\n",
    "omega = 1\n",
    "xsol, _ = solveJacobi(A, b, omega, tol, maxit)\n",
    "D = np.diagflat(np.diagonal(A))\n",
    "Dinv = inv(D)\n",
    "DinvA = Dinv @ A\n",
    "eigs = eigvals(DinvA)\n",
    "omega = 2/(max(eigs) + min(eigs))\n",
    "xsol, _ = solveJacobi(A, b, omega, tol, maxit)"
   ]
  },
  {
   "cell_type": "code",
   "execution_count": 40,
   "id": "c3bc8879-1a2c-474a-9a28-4dcc778283d8",
   "metadata": {
    "editable": true,
    "slideshow": {
     "slide_type": "slide"
    },
    "tags": []
   },
   "outputs": [
    {
     "name": "stdout",
     "output_type": "stream",
     "text": [
      "\tConverged in 678 iterations, error=9.80e-07\n",
      "\tDiverged\n"
     ]
    }
   ],
   "source": [
    "# Gauss-Seidel\n",
    "omega = 1\n",
    "xsol, _ = solveGaussSeidel(A, b, omega, tol, maxit)\n",
    "L = np.tril(A)\n",
    "Linv = inv(L)\n",
    "LinvA = Linv @ A\n",
    "eigs = eigvals(LinvA)\n",
    "omega = 2/(max(eigs) + min(eigs))\n",
    "_, _ = solveGaussSeidel(A, b, omega, tol, maxit) # Ver que omega tiene vals complejos!"
   ]
  },
  {
   "cell_type": "code",
   "execution_count": 46,
   "id": "f78d95a1-5c52-4cb0-8ad9-47fc51a37353",
   "metadata": {
    "editable": true,
    "slideshow": {
     "slide_type": "slide"
    },
    "tags": []
   },
   "outputs": [
    {
     "name": "stdout",
     "output_type": "stream",
     "text": [
      "[1.        +0.j 0.0222136 +0.j 0.08688061+0.j 0.1882551 +0.j]\n"
     ]
    },
    {
     "data": {
      "image/png": "[encoded data removed]",
      "text/plain": [
       "<Figure size 300x300 with 1 Axes>"
      ]
     },
     "metadata": {},
     "output_type": "display_data"
    }
   ],
   "source": [
    "import matplotlib.pyplot as plt\n",
    "plt.rcParams['figure.figsize'] = [3,3]\n",
    "print(eigs[0:4])\n",
    "_ = plt.scatter(eigs.real, eigs.imag)\n",
    "plt.show()"
   ]
  },
  {
   "cell_type": "code",
   "execution_count": 48,
   "id": "aa8761ed-9617-4d75-aefd-c9a3370fc7b1",
   "metadata": {
    "editable": true,
    "slideshow": {
     "slide_type": "slide"
    },
    "tags": []
   },
   "outputs": [
    {
     "name": "stdout",
     "output_type": "stream",
     "text": [
      "9.79615736689055e-07\n",
      "[-9.79859465e-08 -1.42625680e-07 -1.83105577e-07 -2.18618837e-07]\n"
     ]
    }
   ],
   "source": [
    "res = A @ xsol - b\n",
    "from numpy.linalg import norm\n",
    "print(norm(res))\n",
    "print(res[:4])"
   ]
  }
 ],
 "metadata": {
  "kernelspec": {
   "display_name": "Python 3 (ipykernel)",
   "language": "python",
   "name": "python3"
  },
  "language_info": {
   "codemirror_mode": {
    "name": "ipython",
    "version": 3
   },
   "file_extension": ".py",
   "mimetype": "text/x-python",
   "name": "python",
   "nbconvert_exporter": "python",
   "pygments_lexer": "ipython3",
   "version": "3.10.12"
  }
 },
 "nbformat": 4,
 "nbformat_minor": 5
}
